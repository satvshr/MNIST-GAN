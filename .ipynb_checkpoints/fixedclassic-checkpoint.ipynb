{
 "cells": [
  {
   "cell_type": "code",
   "execution_count": 1,
   "id": "bfbf878b-fcce-4aba-a275-360df527eea6",
   "metadata": {},
   "outputs": [],
   "source": [
    "import numpy as np\n",
    "import pandas as pd\n",
    "import torch\n",
    "import torchvision\n",
    "from torchvision.utils import make_grid\n",
    "# import torchvision.utils as vutils\n",
    "import matplotlib.pyplot as plt\n",
    "import torch.nn as nn\n",
    "from torch.utils.data import TensorDataset, DataLoader\n",
    "import torch.nn.functional as F\n",
    "import math\n",
    "from tqdm import tqdm\n",
    "from torch.optim.lr_scheduler import StepLR"
   ]
  },
  {
   "cell_type": "code",
   "execution_count": 2,
   "id": "aeac9c28-64f9-4212-822d-460d02feed28",
   "metadata": {},
   "outputs": [],
   "source": [
    "df = pd.read_csv(\"train.csv\")"
   ]
  },
  {
   "cell_type": "code",
   "execution_count": 3,
   "id": "1963e3ae-9f84-45f9-b6da-02f5b3b4f2a2",
   "metadata": {},
   "outputs": [
    {
     "data": {
      "text/plain": [
       "42000"
      ]
     },
     "execution_count": 3,
     "metadata": {},
     "output_type": "execute_result"
    }
   ],
   "source": [
    "len(df)"
   ]
  },
  {
   "cell_type": "code",
   "execution_count": 4,
   "id": "d044b8e2-c01c-4914-9b5b-f6aee03c2b00",
   "metadata": {},
   "outputs": [],
   "source": [
    "# 1 represents real, 0 fake\n",
    "df['label'] = 1"
   ]
  },
  {
   "cell_type": "code",
   "execution_count": 5,
   "id": "d51eea07-10a2-49f9-b0fc-21020d2934e3",
   "metadata": {},
   "outputs": [],
   "source": [
    "X_discriminator = df.drop('label', axis=1)\n",
    "y_discriminator = torch.tensor(df['label'].values, dtype=torch.float32)"
   ]
  },
  {
   "cell_type": "code",
   "execution_count": 6,
   "id": "5efc9f58-0238-4b58-a125-f0e0682c245a",
   "metadata": {},
   "outputs": [
    {
     "name": "stdout",
     "output_type": "stream",
     "text": [
      "Each image is 28x28 pixels.\n"
     ]
    }
   ],
   "source": [
    "pixel_columns = df.shape[1] - 1  # subtracting 1 for the label column\n",
    "\n",
    "image_side_length = int(pixel_columns**0.5)\n",
    "print(f\"Each image is {image_side_length}x{image_side_length} pixels.\")"
   ]
  },
  {
   "cell_type": "code",
   "execution_count": 7,
   "id": "49632a9c-abb5-4475-ae56-fa2d935b494d",
   "metadata": {},
   "outputs": [
    {
     "data": {
      "image/png": "[encoded data removed]",
      "text/plain": [
       "<Figure size 2000x200 with 10 Axes>"
      ]
     },
     "metadata": {},
     "output_type": "display_data"
    }
   ],
   "source": [
    "fig, axes = plt.subplots(1, 10, figsize=(20, 2))  \n",
    "for i, ax in enumerate(axes):\n",
    "    # Reshape each row into 28x28 array and plot\n",
    "    img = X_discriminator.iloc[i].to_numpy().reshape(28, 28)\n",
    "    ax.imshow(img, cmap='gray')\n",
    "    ax.set_title(f\"Label: {y_discriminator[i]}\")\n",
    "    ax.axis('off')\n",
    "plt.tight_layout()\n",
    "plt.show()"
   ]
  },
  {
   "cell_type": "code",
   "execution_count": 8,
   "id": "f4aba4ef-29f1-400d-8afa-a19dd68699b0",
   "metadata": {},
   "outputs": [],
   "source": [
    "X_discriminator = X_discriminator.values.reshape(-1, 1, 28, 28)\n",
    "X_discriminator = (torch.tensor(X_discriminator).float() / 255.0) * 2 - 1"
   ]
  },
  {
   "cell_type": "code",
   "execution_count": 9,
   "id": "290be817-aa35-49f8-939d-7502974e0e90",
   "metadata": {},
   "outputs": [],
   "source": [
    "dataset_discriminator = TensorDataset(X_discriminator, y_discriminator)\n",
    "loader_discriminator = DataLoader(dataset_discriminator, batch_size=32, shuffle=True)"
   ]
  },
  {
   "cell_type": "code",
   "execution_count": 10,
   "id": "d8585c1d-0ee0-48b4-8d19-2a17a96d91a2",
   "metadata": {},
   "outputs": [],
   "source": [
    "class Discriminator(nn.Module):\n",
    "    def __init__(self):\n",
    "        super(Discriminator, self).__init__()\n",
    "        self.pool = nn.MaxPool2d(kernel_size=2)\n",
    "        self.conv1 = nn.Conv2d(in_channels=1, out_channels=16, kernel_size=3, stride=1, padding=1)\n",
    "        self.conv2 = nn.Conv2d(in_channels=16, out_channels=16, kernel_size=3, stride=1, padding=1)\n",
    "        \n",
    "        self.conv3 = nn.Conv2d(in_channels=16, out_channels=32, kernel_size=3, stride=1, padding=1)\n",
    "        self.conv4 = nn.Conv2d(in_channels=32, out_channels=32, kernel_size=3, stride=1, padding=1)\n",
    "        self.conv5 = nn.Conv2d(in_channels=32, out_channels=64, kernel_size=3, stride=1, padding=1)\n",
    "        \n",
    "        self.conv6 = nn.Conv2d(in_channels=64, out_channels=128, kernel_size=3, stride=1, padding=1)\n",
    "        self.dropout = nn.Dropout(0.3)\n",
    "        self.fc = nn.Linear(in_features=128*7*7, out_features=1)\n",
    "        \n",
    "    def forward(self, x):\n",
    "        x = F.relu(self.conv1(x))\n",
    "        x = self.pool(F.relu(self.conv2(x)))\n",
    "        \n",
    "        x = F.relu(self.conv3(x))\n",
    "        x = F.relu(self.conv4(x))\n",
    "        x = self.pool(F.relu(self.conv5(x)))\n",
    "\n",
    "        x = F.relu(self.conv6(x))\n",
    "        x = x.view(-1, 128*7*7)\n",
    "        x = self.dropout(x)\n",
    "        x = self.fc(x)\n",
    "        return torch.sigmoid(x)"
   ]
  },
  {
   "cell_type": "code",
   "execution_count": 11,
   "id": "a73cbfbc-e186-41bc-9e43-adcca11b7d4e",
   "metadata": {},
   "outputs": [],
   "source": [
    "class Generator(nn.Module):\n",
    "    def __init__(self, noise_dim):\n",
    "        super(Generator, self).__init__()\n",
    "        self.fc = nn.Linear(in_features=noise_dim, out_features=noise_dim) # (1, 49) -> (1, 7, 7)\n",
    "        self.convT1 = nn.ConvTranspose2d(in_channels=1, out_channels=128, kernel_size=4, stride=1)  # (1, 7, 7) -> (1, 10, 10)\n",
    "        self.bn1 = nn.BatchNorm2d(num_features=128)\n",
    "        self.convT2 = nn.ConvTranspose2d(in_channels=128, out_channels=64, kernel_size=4, stride=2) # (1, 10, 10) -> (1, 22, 22)\n",
    "        self.bn2 = nn.BatchNorm2d(num_features=64)\n",
    "        self.convT3 = nn.ConvTranspose2d(in_channels=64, out_channels=32, kernel_size=3, stride=1) # (1, 22, 22) -> (1, 24, 24)\n",
    "        self.bn3 = nn.BatchNorm2d(num_features=32)\n",
    "        self.convT4 = nn.ConvTranspose2d(in_channels=32, out_channels=16, kernel_size=3, stride=1) # (1, 24, 24) -> (1, 26, 26)\n",
    "        self.bn4 = nn.BatchNorm2d(num_features=16)\n",
    "        # self.dropout = nn.Dropout(0.3)\n",
    "        self.convT5 = nn.ConvTranspose2d(in_channels=16, out_channels=1, kernel_size=3, stride=1) # (1, 26, 26) -> (1, 28, 28)\n",
    "\n",
    "    def forward(self, x):\n",
    "        x = F.leaky_relu(self.fc(x))\n",
    "        x = x.view(-1, 1, int(math.sqrt(noise_dim)), int(math.sqrt(noise_dim)))\n",
    "        x = F.relu(self.bn1(self.convT1(x)))\n",
    "        x = F.relu(self.bn2(self.convT2(x)))\n",
    "        x = F.relu(self.bn3(self.convT3(x)))\n",
    "        x = F.relu(self.bn4(self.convT4(x)))\n",
    "        # x = self.dropout(x)\n",
    "        x = torch.tanh(self.convT5(x))\n",
    "        return x"
   ]
  },
  {
   "cell_type": "code",
   "execution_count": 12,
   "id": "b033d94a-4c2a-4eeb-a4bb-af02e3e15686",
   "metadata": {},
   "outputs": [],
   "source": [
    "device = torch.device(\"cuda\" if torch.cuda.is_available() else \"cpu\")\n",
    "\n",
    "noise_dim = 49\n",
    "generator = Generator(noise_dim=noise_dim).to(device)\n",
    "discriminator = Discriminator().to(device)\n",
    "\n",
    "optim_G = torch.optim.Adam(generator.parameters(), lr=0.0002, betas=(0.5, 0.999))\n",
    "optim_D = torch.optim.Adam(discriminator.parameters(), lr=0.0002, betas=(0.5, 0.999))\n",
    "scheduler_G = StepLR(optimizer=optim_G, step_size=5, gamma=0.4)\n",
    "scheduler_D = StepLR(optimizer=optim_D, step_size=5, gamma=0.4)"
   ]
  },
  {
   "cell_type": "code",
   "execution_count": 13,
   "id": "c92b1b59-63ff-4094-b518-178e5e1deae1",
   "metadata": {},
   "outputs": [
    {
     "name": "stderr",
     "output_type": "stream",
     "text": [
      "100%|████████████████████████████████████████████████████| 1313/1313 [00:54<00:00, 24.04it/s, loss_D=1.04, loss_G=1.28]"
     ]
    },
    {
     "name": "stdout",
     "output_type": "stream",
     "text": [
      "Epoch [1/150] - LR G: 0.0002000, LR D: 0.0002000\n",
      "Epoch [1/150] - Average D loss: 1.2352, Average G loss: 0.9010\n"
     ]
    },
    {
     "name": "stderr",
     "output_type": "stream",
     "text": [
      "\n"
     ]
    },
    {
     "data": {
      "image/png": "[encoded data removed]",
      "text/plain": [
       "<Figure size 1000x1000 with 1 Axes>"
      ]
     },
     "metadata": {},
     "output_type": "display_data"
    },
    {
     "name": "stderr",
     "output_type": "stream",
     "text": [
      "100%|███████████████████████████████████████████████████| 1313/1313 [00:53<00:00, 24.39it/s, loss_D=0.828, loss_G=1.66]\n"
     ]
    },
    {
     "name": "stdout",
     "output_type": "stream",
     "text": [
      "Epoch [2/150] - LR G: 0.0002000, LR D: 0.0002000\n",
      "Epoch [2/150] - Average D loss: 1.0218, Average G loss: 1.2161\n"
     ]
    },
    {
     "name": "stderr",
     "output_type": "stream",
     "text": [
      "100%|████████████████████████████████████████████████████| 1313/1313 [00:54<00:00, 24.15it/s, loss_D=1.04, loss_G=1.26]\n"
     ]
    },
    {
     "name": "stdout",
     "output_type": "stream",
     "text": [
      "Epoch [3/150] - LR G: 0.0002000, LR D: 0.0002000\n",
      "Epoch [3/150] - Average D loss: 0.8633, Average G loss: 1.5412\n"
     ]
    },
    {
     "name": "stderr",
     "output_type": "stream",
     "text": [
      " 50%|██████████████████████████▏                         | 660/1313 [00:27<00:27, 24.18it/s, loss_D=0.751, loss_G=1.64]\n"
     ]
    },
    {
     "ename": "KeyboardInterrupt",
     "evalue": "",
     "output_type": "error",
     "traceback": [
      "\u001b[1;31m---------------------------------------------------------------------------\u001b[0m",
      "\u001b[1;31mKeyboardInterrupt\u001b[0m                         Traceback (most recent call last)",
      "Cell \u001b[1;32mIn[13], line 45\u001b[0m\n\u001b[0;32m     42\u001b[0m g_loss\u001b[38;5;241m.\u001b[39mbackward()\n\u001b[0;32m     43\u001b[0m optim_G\u001b[38;5;241m.\u001b[39mstep()\n\u001b[1;32m---> 45\u001b[0m total_d_loss \u001b[38;5;241m+\u001b[39m\u001b[38;5;241m=\u001b[39m d_loss\u001b[38;5;241m.\u001b[39mitem()\n\u001b[0;32m     46\u001b[0m total_g_loss \u001b[38;5;241m+\u001b[39m\u001b[38;5;241m=\u001b[39m g_loss\u001b[38;5;241m.\u001b[39mitem()\n\u001b[0;32m     47\u001b[0m count_batches \u001b[38;5;241m+\u001b[39m\u001b[38;5;241m=\u001b[39m \u001b[38;5;241m1\u001b[39m\n",
      "\u001b[1;31mKeyboardInterrupt\u001b[0m: "
     ]
    }
   ],
   "source": [
    "def preprocess_images(images):\n",
    "    normalized_images = (generated_images + 1) / 2\n",
    "    display_images = (normalized_images * 255).type(torch.uint8)\n",
    "    return display_images\n",
    "\n",
    "# Initialize variables\n",
    "min_g_loss = float('inf')\n",
    "epochs = 150\n",
    "average_d_losses = []  # List to store average discriminator losses per epoch\n",
    "average_g_losses = []  # List to store average generator losses per epoch\n",
    "\n",
    "# Assume definitions of loader_discriminator, discriminator, generator, optim_D, and optim_G\n",
    "\n",
    "for epoch in range(epochs):\n",
    "    total_d_loss = 0.0\n",
    "    total_g_loss = 0.0\n",
    "    count_batches = 0\n",
    "\n",
    "    loop = tqdm(loader_discriminator, leave=True, total=len(loader_discriminator))\n",
    "    for real_imgs, _ in loop:\n",
    "        batch_size = real_imgs.size(0)\n",
    "        real_imgs = real_imgs.to(device)\n",
    "        real_labels = torch.ones(batch_size, 1).to(device)\n",
    "        fake_labels = torch.zeros(batch_size, 1).to(device)\n",
    "\n",
    "        optim_D.zero_grad()\n",
    "        real_preds = discriminator(real_imgs)\n",
    "        real_loss = F.binary_cross_entropy(real_preds, real_labels)\n",
    "\n",
    "        noise = torch.randn(batch_size, noise_dim).to(device)\n",
    "        fake_imgs = generator(noise)\n",
    "        fake_preds = discriminator(fake_imgs.detach())\n",
    "        fake_loss = F.binary_cross_entropy(fake_preds, fake_labels)\n",
    "\n",
    "        d_loss = real_loss + fake_loss\n",
    "        d_loss.backward()\n",
    "        optim_D.step()\n",
    "\n",
    "        optim_G.zero_grad()\n",
    "        tricked_preds = discriminator(fake_imgs)\n",
    "        g_loss = F.binary_cross_entropy(tricked_preds, real_labels)\n",
    "        g_loss.backward()\n",
    "        optim_G.step()\n",
    "\n",
    "        total_d_loss += d_loss.item()\n",
    "        total_g_loss += g_loss.item()\n",
    "        count_batches += 1\n",
    "\n",
    "        loop.set_postfix(loss_D=d_loss.item(), loss_G=g_loss.item())\n",
    "\n",
    "    avg_d_loss = total_d_loss / count_batches\n",
    "    avg_g_loss = total_g_loss / count_batches\n",
    "\n",
    "    average_d_losses.append(avg_d_loss)\n",
    "    average_g_losses.append(avg_g_loss)\n",
    "\n",
    "    scheduler_G.step()\n",
    "    scheduler_D.step()\n",
    "\n",
    "    lr_G = optim_G.param_groups[0]['lr']\n",
    "    lr_D = optim_D.param_groups[0]['lr']\n",
    "\n",
    "    # Print current learning rates\n",
    "    print(f\"Epoch [{epoch + 1}/{epochs}] - LR G: {lr_G:.7f}, LR D: {lr_D:.7f}\")\n",
    "    print(f\"Epoch [{epoch + 1}/{epochs}] - Average D loss: {avg_d_loss:.4f}, Average G loss: {avg_g_loss:.4f}\")\n",
    "\n",
    "    if epoch % 3 == 0:\n",
    "        with torch.no_grad():\n",
    "            test_noise = torch.randn(batch_size, noise_dim).to(device)\n",
    "            generated_images = generator(test_noise)\n",
    "            generated_images = preprocess_images(generated_images)\n",
    "\n",
    "            plt.figure(figsize=(10, 10))\n",
    "            grid = make_grid(generated_images, nrow=8)\n",
    "            plt.imshow(grid.permute(1, 2, 0).cpu().numpy())\n",
    "            plt.axis('off')\n",
    "            plt.show()\n",
    "\n",
    "torch.save(generator.state_dict(), 'best_generator.pth')"
   ]
  },
  {
   "cell_type": "code",
   "execution_count": null,
   "id": "dcc6eac1-604e-48d1-b496-bd5286d1c846",
   "metadata": {},
   "outputs": [],
   "source": [
    "# Plotting the training losses\n",
    "plt.figure(figsize=(10, 5))\n",
    "plt.plot(average_d_losses, label='Discriminator Loss')\n",
    "plt.plot(average_g_losses, label='Generator Loss')\n",
    "plt.title('Training Losses')\n",
    "plt.xlabel('Epoch')\n",
    "plt.ylabel('Loss')\n",
    "plt.legend()\n",
    "plt.show()"
   ]
  },
  {
   "cell_type": "code",
   "execution_count": null,
   "id": "2a290fdc-3a85-4531-b87d-faf69322e3f4",
   "metadata": {},
   "outputs": [],
   "source": [
    "def calculate_transposed_conv_output_size(H_in, W_in, K, S, P, O):\n",
    "    \"\"\"\n",
    "    Calculate the output dimensions (height and width) of a transposed convolution layer.\n",
    "\n",
    "    Parameters:\n",
    "    H_in (int): Height of the input feature map.\n",
    "    W_in (int): Width of the input feature map.\n",
    "    K (int): Kernel size.\n",
    "    S (int): Stride.\n",
    "    P (int): Padding applied to the input.\n",
    "    O (int): Output padding.\n",
    "\n",
    "    Returns:\n",
    "    tuple: (H_out, W_out) output height and width.\n",
    "    \"\"\"\n",
    "    H_out = (H_in - 1) * S - 2 * P + K + O\n",
    "    W_out = (W_in - 1) * S - 2 * P + K + O\n",
    "    return H_out, W_out\n",
    "\n",
    "# Example usage with specific parameters\n",
    "H_in, W_in = 26, 26  # Example input dimensions\n",
    "K = 3             # Kernel size\n",
    "S = 1              # Stride\n",
    "P = 0              # Padding\n",
    "O = 0              # Output padding\n",
    "\n",
    "# Calculate output dimensions\n",
    "output_dims = calculate_transposed_conv_output_size(H_in, W_in, K, S, P, O)\n",
    "output_dims"
   ]
  },
  {
   "cell_type": "code",
   "execution_count": null,
   "id": "4c575521-682d-45c0-a71a-49c47076d98f",
   "metadata": {},
   "outputs": [],
   "source": [
    "def calculate_conv_output_size(input_size, kernel_size, stride, padding):\n",
    "    \"\"\"\n",
    "    Calculate the output size of a convolutional layer.\n",
    "\n",
    "    Args:\n",
    "    input_size (tuple): The height and width of the input image (height, width).\n",
    "    kernel_size (int): The size of the kernel/filter.\n",
    "    stride (int): The stride of the convolution operation.\n",
    "    padding (int): The padding added to the input image.\n",
    "\n",
    "    Returns:\n",
    "    tuple: The height and width of the output image (height, width).\n",
    "    \"\"\"\n",
    "    input_height, input_width = input_size\n",
    "\n",
    "    output_height = (input_height + 2 * padding - kernel_size) // stride + 1\n",
    "    output_width = (input_width + 2 * padding - kernel_size) // stride + 1\n",
    "\n",
    "    return (output_height, output_width)\n",
    "\n",
    "# Example usage:\n",
    "input_height = 28  # Example input height\n",
    "input_width = 28   # Example input width\n",
    "kernel_size = 3\n",
    "stride = 2\n",
    "padding = 2\n",
    "\n",
    "output_size = calculate_conv_output_size((input_height, input_width), kernel_size, stride, padding)\n",
    "print(\"Output size:\", output_size)"
   ]
  },
  {
   "cell_type": "code",
   "execution_count": null,
   "id": "02d6253c-6936-4f33-bf3a-973d4c9bf021",
   "metadata": {},
   "outputs": [],
   "source": [
    "# Load the trained generator weights\n",
    "generator.load_state_dict(torch.load('best_generator.pth'))\n",
    "generator.eval()  # Set to evaluation mode"
   ]
  },
  {
   "cell_type": "code",
   "execution_count": null,
   "id": "3124c428-fb7e-4f1b-8140-cdd6253f84b0",
   "metadata": {},
   "outputs": [],
   "source": [
    "# Generate noise vectors\n",
    "batch_size = 256  # Number of images to generate\n",
    "noise = torch.randn(batch_size, noise_dim).to(device)\n",
    "\n",
    "# Generate images from noise vectors\n",
    "with torch.no_grad():\n",
    "    fake_images = generator(noise)\n",
    "\n",
    "# Assuming images are 28x28 and need to be reshaped\n",
    "fake_images = fake_images.view(batch_size, 1, 28, 28)  # Reshape images to BxCxHxW format if needed\n",
    "grid = make_grid(fake_images, nrow=16, normalize=True)  # Create a grid of images\n",
    "\n",
    "# Visualize images\n",
    "plt.figure(figsize=(6, 6))\n",
    "plt.imshow(grid.permute(1, 2, 0).cpu().numpy())  # Adjust the channel ordering\n",
    "plt.axis('off')\n",
    "plt.show()\n"
   ]
  },
  {
   "cell_type": "code",
   "execution_count": null,
   "id": "803e6956-ebc9-403b-8fb5-14231727aa4e",
   "metadata": {},
   "outputs": [],
   "source": []
  }
 ],
 "metadata": {
  "kernelspec": {
   "display_name": "Python 3 (ipykernel)",
   "language": "python",
   "name": "python3"
  },
  "language_info": {
   "codemirror_mode": {
    "name": "ipython",
    "version": 3
   },
   "file_extension": ".py",
   "mimetype": "text/x-python",
   "name": "python",
   "nbconvert_exporter": "python",
   "pygments_lexer": "ipython3",
   "version": "3.12.2"
  }
 },
 "nbformat": 4,
 "nbformat_minor": 5
}
