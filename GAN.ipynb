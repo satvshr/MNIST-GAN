{
 "cells": [
  {
   "cell_type": "code",
   "execution_count": 16,
   "id": "bfbf878b-fcce-4aba-a275-360df527eea6",
   "metadata": {},
   "outputs": [],
   "source": [
    "import numpy as np\n",
    "import pandas as pd\n",
    "import torch\n",
    "import torchvision\n",
    "import matplotlib.pyplot as plt\n",
    "import torch.nn as nn\n",
    "from torch.utils.data import TensorDataset, DataLoader\n",
    "import torch.nn.functional as F"
   ]
  },
  {
   "cell_type": "code",
   "execution_count": 3,
   "id": "aeac9c28-64f9-4212-822d-460d02feed28",
   "metadata": {},
   "outputs": [],
   "source": [
    "df = pd.read_csv(\"train.csv\")"
   ]
  },
  {
   "cell_type": "code",
   "execution_count": 4,
   "id": "1963e3ae-9f84-45f9-b6da-02f5b3b4f2a2",
   "metadata": {},
   "outputs": [
    {
     "data": {
      "text/plain": [
       "42000"
      ]
     },
     "execution_count": 4,
     "metadata": {},
     "output_type": "execute_result"
    }
   ],
   "source": [
    "len(df)"
   ]
  },
  {
   "cell_type": "code",
   "execution_count": 10,
   "id": "d044b8e2-c01c-4914-9b5b-f6aee03c2b00",
   "metadata": {},
   "outputs": [],
   "source": [
    "# 1 represents real, 0 fake\n",
    "df['label'] = 1"
   ]
  },
  {
   "cell_type": "code",
   "execution_count": 5,
   "id": "d51eea07-10a2-49f9-b0fc-21020d2934e3",
   "metadata": {},
   "outputs": [],
   "source": [
    "X_discriminator = df.drop('label', axis=1)\n",
    "y_discriminator = df['label']"
   ]
  },
  {
   "cell_type": "code",
   "execution_count": 6,
   "id": "5efc9f58-0238-4b58-a125-f0e0682c245a",
   "metadata": {},
   "outputs": [
    {
     "name": "stdout",
     "output_type": "stream",
     "text": [
      "Each image is 28x28 pixels.\n"
     ]
    }
   ],
   "source": [
    "pixel_columns = df.shape[1] - 1  # subtracting 1 for the label column\n",
    "\n",
    "image_side_length = int(pixel_columns**0.5)\n",
    "print(f\"Each image is {image_side_length}x{image_side_length} pixels.\")"
   ]
  },
  {
   "cell_type": "code",
   "execution_count": 8,
   "id": "49632a9c-abb5-4475-ae56-fa2d935b494d",
   "metadata": {},
   "outputs": [
    {
     "data": {
      "image/png": "[encoded data removed]",
      "text/plain": [
       "<Figure size 2000x200 with 10 Axes>"
      ]
     },
     "metadata": {},
     "output_type": "display_data"
    }
   ],
   "source": [
    "fig, axes = plt.subplots(1, 10, figsize=(20, 2))  \n",
    "for i, ax in enumerate(axes):\n",
    "    # Reshape each row into 28x28 array and plot\n",
    "    img = X.iloc[i].to_numpy().reshape(28, 28)\n",
    "    ax.imshow(img, cmap='gray')\n",
    "    ax.set_title(f\"Label: {y[i]}\")\n",
    "    ax.axis('off')\n",
    "plt.tight_layout()\n",
    "plt.show()"
   ]
  },
  {
   "cell_type": "code",
   "execution_count": 9,
   "id": "f4aba4ef-29f1-400d-8afa-a19dd68699b0",
   "metadata": {},
   "outputs": [],
   "source": [
    "X_discriminator = X_discriminator.values.reshape(-1, 1, 28, 28)"
   ]
  },
  {
   "cell_type": "code",
   "execution_count": 13,
   "id": "23c77689-b60d-4c48-ae10-d26bddeda954",
   "metadata": {},
   "outputs": [],
   "source": [
    "X_discriminator = torch.tensor(X_discriminator).float() / 255.0"
   ]
  },
  {
   "cell_type": "code",
   "execution_count": null,
   "id": "290be817-aa35-49f8-939d-7502974e0e90",
   "metadata": {},
   "outputs": [],
   "source": [
    "dataset_discriminator = TensorDataset(X_discriminator, y_discriminator)\n",
    "loader_discriminator = DataLoader(dataset_discriminator, batch_size=32, shuffle=True)"
   ]
  },
  {
   "cell_type": "code",
   "execution_count": null,
   "id": "a212714b-8c0c-4193-8b1b-73a0e4bf08e5",
   "metadata": {},
   "outputs": [],
   "source": [
    "num_samples = X_discriminator.shape[0]  # Number of real images\n",
    "noise_dim = 100  # Dimensionality of the noise vector\n",
    "\n",
    "# Generate noise samples from a normal distribution\n",
    "noise = torch.randn(num_samples, noise_dim)\n",
    "noise_dataset = TensorDataset(noise)\n",
    "noise_loader = DataLoader(noise_dataset, batch_size=32, shuffle=True)"
   ]
  },
  {
   "cell_type": "code",
   "execution_count": null,
   "id": "d8585c1d-0ee0-48b4-8d19-2a17a96d91a2",
   "metadata": {},
   "outputs": [],
   "source": [
    "class Discriminator(nn.Module):\n",
    "    def __init__(self):\n",
    "        super(Discriminator, self).__init__()\n",
    "        self.pool = nn.MaxPool2d(kernel_size=2)\n",
    "        self.conv1 = nn.Conv2d(in_channels=1, out_channels=16, stride=1, padding=1)\n",
    "        self.conv2 = nn.Conv2d(in_channels=16, out_channels=16, stride=1, padding=1)\n",
    "        \n",
    "        self.conv3 = nn.Conv2d(in_channels=16, out_channels=32, stride=1, padding=1)\n",
    "        self.conv4 = nn.Conv2d(in_channels=32, out_channels=32, stride=1, padding=1)\n",
    "        self.conv5 = nn.Conv2d(in_channels=32, out_channels=64, stride=1, padding=1)\n",
    "        \n",
    "        self.conv6 = nn.Conv2d(in_channels=64, out_channels=128, stride=1, padding=1)\n",
    "        self.dropout = nn.Dropout(0.3)\n",
    "        self.fc = nn.Linear(in_features=128*7*7, out_features=1)\n",
    "        \n",
    "    def forward(self, x):\n",
    "        x = F.relu(self.conv1(x))\n",
    "        x = self.pool(F.relu(self.conv2(x)))\n",
    "        \n",
    "        x = F.relu(self.conv3(x))\n",
    "        x = F.relu(self.conv4(x))\n",
    "        x = self.pool(F.relu(self.conv5(x)))\n",
    "\n",
    "        x = F.relu(self.conv6(x))\n",
    "        print(x.shape)\n",
    "        x = x.view(-1, 128*7*7)\n",
    "        x = self.dropout(x)\n",
    "        print(x.shape)\n",
    "        x = self.fc(x)\n",
    "        return torch.sigmoid(x)"
   ]
  },
  {
   "cell_type": "code",
   "execution_count": null,
   "id": "a73cbfbc-e186-41bc-9e43-adcca11b7d4e",
   "metadata": {},
   "outputs": [],
   "source": [
    "class Generator(nn.Module):\n",
    "    def __init__(self):\n",
    "        super(Generator, self).__init__()\n",
    "        self.fc = nn.Linear(in_features=100, out_features=100)\n",
    "        self.conv1 = nn.Conv2d(in_channels=10, out_channels=128)\n",
    "        self.conv2 = "
   ]
  }
 ],
 "metadata": {
  "kernelspec": {
   "display_name": "Python 3 (ipykernel)",
   "language": "python",
   "name": "python3"
  },
  "language_info": {
   "codemirror_mode": {
    "name": "ipython",
    "version": 3
   },
   "file_extension": ".py",
   "mimetype": "text/x-python",
   "name": "python",
   "nbconvert_exporter": "python",
   "pygments_lexer": "ipython3",
   "version": "3.12.2"
  }
 },
 "nbformat": 4,
 "nbformat_minor": 5
}
